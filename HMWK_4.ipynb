{
 "cells": [
  {
   "cell_type": "code",
   "execution_count": 47,
   "metadata": {
    "collapsed": true
   },
   "outputs": [],
   "source": [
    "import pandas as pd\n",
    "import quandl\n",
    "import numpy as np\n",
    "import matplotlib.pyplot as plt\n",
    "import seaborn as sns\n",
    "%matplotlib inline\n",
    "\n",
    "import ipywidgets as widgets"
   ]
  },
  {
   "cell_type": "code",
   "execution_count": 48,
   "metadata": {
    "collapsed": true
   },
   "outputs": [],
   "source": [
    "def stock_simulator(starting_price,periods,mean,std):\n",
    "    X_axis = []\n",
    "    Y_axis = []\n",
    "    \n",
    "    current_period = 1\n",
    "    previous_price = starting_price\n",
    "    \n",
    "    while current_period <= periods:\n",
    "        \n",
    "        drift = float(mean)/periods\n",
    "        shock = np.random.normal(loc=drift,scale=float(std)/np.sqrt(periods))\n",
    "        \n",
    "        current_price = previous_price + previous_price*(drift + shock)\n",
    "        previous_price = current_price\n",
    "        \n",
    "        X_axis.append(current_period)\n",
    "        Y_axis.append(current_price)\n",
    "        \n",
    "        current_period = current_period + 1\n",
    "    \n",
    "    plt.subplot(121)\n",
    "    plt.plot(X_axis,Y_axis)\n",
    "    return Y_axis[-1]"
   ]
  },
  {
   "cell_type": "code",
   "execution_count": 49,
   "metadata": {
    "collapsed": true
   },
   "outputs": [],
   "source": [
    "Var = []\n",
    "opt={\"AAPL\":'Apple' , \"GOOGL\":'Google' , \"MSFT\": 'Microsoft'}\n",
    "weights = []"
   ]
  },
  {
   "cell_type": "code",
   "execution_count": 53,
   "metadata": {
    "collapsed": true
   },
   "outputs": [],
   "source": [
    "def simulator(stock, weight, investment):\n",
    "    if weight in weights:\n",
    "        print \"You already chose \" + str(100 * weight) + '%'\n",
    "        return\n",
    "    \n",
    "    data = quandl.get(\"WIKI/\"+stock)\n",
    "    \n",
    "    \n",
    "    starting_price = data[\"Open\"][-1]\n",
    "    periods = 365\n",
    "    mean = data[\"Open\"].pct_change().dropna().mean()\n",
    "    std = data[\"Open\"].pct_change().dropna().std()\n",
    "    \n",
    "    simulations = 0\n",
    "    outcomes = []\n",
    "    while simulations < 1000:\n",
    "        outcomes.append(stock_simulator(starting_price,periods,mean,std))\n",
    "        simulations += 1\n",
    "\n",
    "    plt.ylabel('Return')\n",
    "    plt.xlabel('Days')\n",
    "    plt.subplot(122)\n",
    "    sns.distplot(outcomes,bins=50,color=\"green\",vertical=True)\n",
    "    \n",
    "    \n",
    "    q = np.percentile(outcomes,1)\n",
    "    \n",
    "    plt.axhline(q, color=\"red\", linestyle=\"--\")\n",
    "    \n",
    "    \n",
    "    VaR_coef = (starting_price - q)/starting_price\n",
    "    VaR = VaR_coef * investment * weight\n",
    "    print(\"Your maximum loss will be\" +\" \"+ str(VaR))\n",
    "    Var.append(VaR) \n",
    "    weights.append(weight)"
   ]
  },
  {
   "cell_type": "code",
   "execution_count": 54,
   "metadata": {},
   "outputs": [],
   "source": [
    "stock_inputs_1 = widgets.Dropdown(\n",
    "    options={'Netflix': \"NFLX\", 'Google': \"GOOGL\", 'Disney': \"DIS\"},\n",
    "    value=\"GOOGL\",\n",
    "    description='Stock 1:',\n",
    ")\n",
    "\n",
    "stock_inputs_2 = widgets.Dropdown(\n",
    "    options={'Netflix': \"NFLX\", 'Google': \"GOOGL\", 'Disney': \"DIS\"},\n",
    "    value=\"GOOGL\",\n",
    "    description='Stock 2:',\n",
    ")\n",
    "\n",
    "stock_inputs_3 = widgets.Dropdown(\n",
    "    options={'Netflix': \"NFLX\", 'Google': \"GOOGL\", 'Disney': \"DIS\"},\n",
    "    value=\"GOOGL\",\n",
    "    description='Stock 3:',\n",
    ")\n",
    "\n",
    "weight_input = widgets.Dropdown(\n",
    "    options = {'20%' : 0.2, '30%': 0.3, '50%':0.5},\n",
    "    value=0.2,\n",
    "    description='Weight:',\n",
    ")\n",
    "\n",
    "\n",
    "investment_input = widgets.IntSlider(\n",
    "    value=5000,\n",
    "    min=1000, max=100000, step=500,\n",
    "    description='Budget:',\n",
    ")\n"
   ]
  },
  {
   "cell_type": "code",
   "execution_count": 52,
   "metadata": {},
   "outputs": [
    {
     "data": {
      "application/vnd.jupyter.widget-view+json": {
       "model_id": "537af9dddf7947c78fe02d0ba72781aa",
       "version_major": 2,
       "version_minor": 0
      },
      "text/plain": [
       "A Jupyter Widget"
      ]
     },
     "metadata": {},
     "output_type": "display_data"
    }
   ],
   "source": [
    "interactive_plot = widgets.interact_manual(simulator,stock=stock_inputs_1,weight=weight_input,investment=investment_input)"
   ]
  },
  {
   "cell_type": "code",
   "execution_count": 55,
   "metadata": {},
   "outputs": [
    {
     "data": {
      "application/vnd.jupyter.widget-view+json": {
       "model_id": "21cc4471b6174f03b1a210481f9d3074",
       "version_major": 2,
       "version_minor": 0
      },
      "text/plain": [
       "A Jupyter Widget"
      ]
     },
     "metadata": {},
     "output_type": "display_data"
    }
   ],
   "source": [
    "interactive_plot = widgets.interact_manual(simulator,stock=stock_inputs_2,weight=weight_input,investment=investment_input)"
   ]
  },
  {
   "cell_type": "code",
   "execution_count": 56,
   "metadata": {},
   "outputs": [
    {
     "data": {
      "application/vnd.jupyter.widget-view+json": {
       "model_id": "779e063c54ec42f5b813460cae944e84",
       "version_major": 2,
       "version_minor": 0
      },
      "text/plain": [
       "A Jupyter Widget"
      ]
     },
     "metadata": {},
     "output_type": "display_data"
    }
   ],
   "source": [
    "interactive_plot = widgets.interact_manual(simulator,stock=stock_inputs_3,weight=weight_input,investment=investment_input)"
   ]
  },
  {
   "cell_type": "code",
   "execution_count": 57,
   "metadata": {},
   "outputs": [
    {
     "name": "stdout",
     "output_type": "stream",
     "text": [
      "Maximum loss from this portfolio investment will be 3969.52740502\n"
     ]
    }
   ],
   "source": [
    "result = Var[0] + Var[1] + Var[2]\n",
    "print \"Maximum loss from this portfolio investment will be \" + str(result)"
   ]
  },
  {
   "cell_type": "code",
   "execution_count": null,
   "metadata": {
    "collapsed": true
   },
   "outputs": [],
   "source": []
  }
 ],
 "metadata": {
  "kernelspec": {
   "display_name": "Python 2",
   "language": "python",
   "name": "python2"
  },
  "language_info": {
   "codemirror_mode": {
    "name": "ipython",
    "version": 2
   },
   "file_extension": ".py",
   "mimetype": "text/x-python",
   "name": "python",
   "nbconvert_exporter": "python",
   "pygments_lexer": "ipython2",
   "version": "2.7.14"
  }
 },
 "nbformat": 4,
 "nbformat_minor": 2
}
